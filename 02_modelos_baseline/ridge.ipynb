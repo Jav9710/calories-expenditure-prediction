{
 "cells": [
  {
   "cell_type": "code",
   "execution_count": 1,
   "id": "initial_id",
   "metadata": {
    "ExecuteTime": {
     "end_time": "2025-09-20T17:39:38.587274Z",
     "start_time": "2025-09-20T17:39:36.477448Z"
    },
    "collapsed": true
   },
   "outputs": [],
   "source": [
    "\n",
    "\n",
    "from pathlib import Path\n",
    "\n",
    "import joblib\n",
    "import numpy as np\n",
    "import os\n",
    "import pandas as pd\n",
    "from joblib import parallel_backend\n",
    "from sklearn.linear_model import Ridge\n",
    "from sklearn.metrics import mean_absolute_error, mean_squared_error, r2_score\n",
    "from sklearn.model_selection import GridSearchCV\n",
    "\n",
    "DATA_DIR = Path(\"../../../data/processed\")\n",
    "train = pd.read_csv(DATA_DIR / 'train_fe_scaled.csv')\n",
    "val = pd.read_csv(DATA_DIR / 'val_fe_scaled.csv')\n",
    "\n",
    "TARGET = 'Calories'\n",
    "FEATURES = [c for c in train.columns if c not in ['id', TARGET]]\n",
    "X_train, y_train = train[FEATURES], train[TARGET]\n",
    "X_val, y_val = val[FEATURES], val[TARGET]\n"
   ]
  },
  {
   "cell_type": "code",
   "execution_count": 2,
   "id": "fea6b4134e36fe27",
   "metadata": {
    "ExecuteTime": {
     "end_time": "2025-09-20T17:39:38.597293Z",
     "start_time": "2025-09-20T17:39:38.592319Z"
    }
   },
   "outputs": [],
   "source": [
    "def report_results(model_name, grid, X_val, y_val):\n",
    "    best = grid.best_estimator_\n",
    "    preds = best.predict(X_val)\n",
    "    mae = mean_absolute_error(y_val, preds)\n",
    "    mse = mean_squared_error(y_val, preds)\n",
    "    rmse = np.sqrt(mse)\n",
    "    r2 = r2_score(y_val, preds)\n",
    "    return {\n",
    "        \"model\": model_name,\n",
    "        \"best_params\": grid.best_params_,\n",
    "        \"MAE\": mae,\n",
    "        \"RMSE\": rmse,\n",
    "        \"R2\": r2\n",
    "    }, best\n",
    "\n",
    "RESULTS_CSV = \"../../../results/baseline_results.csv\"\n",
    "\n",
    "def append_result_to_csv(result_dict, csv_path=RESULTS_CSV):\n",
    "    df_new = pd.DataFrame([result_dict])\n",
    "    if os.path.exists(csv_path):\n",
    "        df_existing = pd.read_csv(csv_path)\n",
    "        df_all = pd.concat([df_existing, df_new], ignore_index=True)\n",
    "    else:\n",
    "        df_all = df_new\n",
    "    df_all.to_csv(csv_path, index=False)"
   ]
  },
  {
   "cell_type": "code",
   "execution_count": 3,
   "id": "e7fd4f688488c75c",
   "metadata": {
    "ExecuteTime": {
     "end_time": "2025-09-20T17:39:39.335301Z",
     "start_time": "2025-09-20T17:39:38.737956Z"
    }
   },
   "outputs": [
    {
     "name": "stdout",
     "output_type": "stream",
     "text": [
      "Fitting 3 folds for each of 4 candidates, totalling 12 fits\n",
      "[CV 2/3] END ......................alpha=0.01;, score=-60.736 total time=   0.4s[CV 3/3] END ......................alpha=0.01;, score=-60.117 total time=   0.4s\n",
      "[CV 3/3] END .......................alpha=0.1;, score=-60.117 total time=   0.4s\n",
      "\n",
      "[CV 1/3] END .......................alpha=1.0;, score=-61.314 total time=   0.5s\n",
      "[CV 1/3] END .......................alpha=0.1;, score=-61.314 total time=   0.5s\n",
      "[CV 1/3] END ......................alpha=0.01;, score=-61.314 total time=   0.5s\n",
      "[CV 2/3] END .......................alpha=1.0;, score=-60.737 total time=   0.5s\n",
      "[CV 2/3] END .......................alpha=0.1;, score=-60.736 total time=   0.5s\n",
      "[CV 1/3] END ......................alpha=10.0;, score=-61.316 total time=   0.2s\n",
      "[CV 2/3] END ......................alpha=10.0;, score=-60.745 total time=   0.2s\n",
      "[CV 3/3] END .......................alpha=1.0;, score=-60.118 total time=   0.3s\n",
      "[CV 3/3] END ......................alpha=10.0;, score=-60.127 total time=   0.2s\n"
     ]
    }
   ],
   "source": [
    "results = {}\n",
    "search_space_ridge = {\"alpha\": [0.01, 0.1, 1.0, 10.0]}\n",
    "ridge_grid = GridSearchCV(Ridge(random_state=42), search_space_ridge, cv=3,\n",
    "                          scoring=\"neg_mean_squared_error\", n_jobs=-1, \n",
    "                          verbose=3)\n",
    "with parallel_backend('threading', n_jobs=3):\n",
    "    ridge_grid.fit(X_train, y_train)\n",
    "res, best = report_results(\"Ridge\", ridge_grid, X_val, y_val)\n",
    "results[\"Ridge\"] = res\n",
    "joblib.dump(best, \"../../../results/models/Ridge.joblib\")\n",
    "append_result_to_csv(res)\n"
   ]
  },
  {
   "cell_type": "code",
   "execution_count": 4,
   "id": "4e7e566b274f4b68",
   "metadata": {
    "ExecuteTime": {
     "end_time": "2025-09-20T17:39:39.364470Z",
     "start_time": "2025-09-20T17:39:39.356543Z"
    }
   },
   "outputs": [
    {
     "name": "stdout",
     "output_type": "stream",
     "text": [
      "       model      best_params       MAE      RMSE        R2\n",
      "Ridge  Ridge  {'alpha': 0.01}  5.539119  7.763404  0.984449\n"
     ]
    }
   ],
   "source": [
    "results_df = pd.DataFrame(results).T\n",
    "print(results_df)\n",
    "results_df.to_csv(\"../../../results/models/baseline_results_ridge.csv\")\n"
   ]
  },
  {
   "cell_type": "code",
   "execution_count": null,
   "id": "8b8c270a",
   "metadata": {},
   "outputs": [],
   "source": []
  }
 ],
 "metadata": {
  "kernelspec": {
   "display_name": ".venv",
   "language": "python",
   "name": "python3"
  },
  "language_info": {
   "codemirror_mode": {
    "name": "ipython",
    "version": 3
   },
   "file_extension": ".py",
   "mimetype": "text/x-python",
   "name": "python",
   "nbconvert_exporter": "python",
   "pygments_lexer": "ipython3",
   "version": "3.11.9"
  }
 },
 "nbformat": 4,
 "nbformat_minor": 5
}
