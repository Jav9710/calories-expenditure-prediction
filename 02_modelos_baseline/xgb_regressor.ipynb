{
 "cells": [
  {
   "cell_type": "code",
   "execution_count": 1,
   "id": "initial_id",
   "metadata": {
    "ExecuteTime": {
     "end_time": "2025-09-20T19:45:34.629307Z",
     "start_time": "2025-09-20T19:45:31.132275Z"
    },
    "collapsed": true
   },
   "outputs": [],
   "source": [
    "\n",
    "\n",
    "import os\n",
    "from pathlib import Path\n",
    "\n",
    "import joblib\n",
    "import numpy as np\n",
    "import pandas as pd\n",
    "from joblib import parallel_backend\n",
    "from sklearn.metrics import mean_absolute_error, mean_squared_error, r2_score\n",
    "\n",
    "DATA_DIR = Path(\"../../../data/processed\")\n",
    "train = pd.read_csv(DATA_DIR / 'train_fe_scaled.csv')\n",
    "val = pd.read_csv(DATA_DIR / 'val_fe_scaled.csv')\n",
    "\n",
    "TARGET = 'Calories'\n",
    "FEATURES = [c for c in train.columns if c not in ['id', TARGET]]\n",
    "X_train, y_train = train[FEATURES], train[TARGET]\n",
    "X_val, y_val = val[FEATURES], val[TARGET]\n"
   ]
  },
  {
   "cell_type": "code",
   "execution_count": 2,
   "id": "fea6b4134e36fe27",
   "metadata": {
    "ExecuteTime": {
     "end_time": "2025-09-20T19:45:34.650505Z",
     "start_time": "2025-09-20T19:45:34.641988Z"
    }
   },
   "outputs": [],
   "source": [
    "def report_results(model_name, grid, X_val, y_val):\n",
    "    best = grid.best_estimator_\n",
    "    preds = best.predict(X_val)\n",
    "    mae = mean_absolute_error(y_val, preds)\n",
    "    mse = mean_squared_error(y_val, preds)\n",
    "    rmse = np.sqrt(mse)\n",
    "    r2 = r2_score(y_val, preds)\n",
    "    return {\n",
    "        \"model\": model_name,\n",
    "        \"best_params\": grid.best_params_,\n",
    "        \"MAE\": mae,\n",
    "        \"RMSE\": rmse,\n",
    "        \"R2\": r2\n",
    "    }, best\n",
    "\n",
    "RESULTS_CSV = \"../../../results/baseline_results.csv\"\n",
    "\n",
    "def append_result_to_csv(result_dict, csv_path=RESULTS_CSV):\n",
    "    df_new = pd.DataFrame([result_dict])\n",
    "    if os.path.exists(csv_path):\n",
    "        df_existing = pd.read_csv(csv_path)\n",
    "        df_all = pd.concat([df_existing, df_new], ignore_index=True)\n",
    "    else:\n",
    "        df_all = df_new\n",
    "    df_all.to_csv(csv_path, index=False)"
   ]
  },
  {
   "cell_type": "code",
   "execution_count": 3,
   "id": "e7fd4f688488c75c",
   "metadata": {
    "ExecuteTime": {
     "end_time": "2025-09-20T19:45:56.000318Z",
     "start_time": "2025-09-20T19:45:34.907344Z"
    }
   },
   "outputs": [
    {
     "name": "stdout",
     "output_type": "stream",
     "text": [
      "Fitting 3 folds for each of 5 candidates, totalling 15 fits\n",
      "[CV 1/3] END learning_rate=0.01, max_depth=3, n_estimators=50;, score=-1542.760 total time=   2.7s\n",
      "[CV 2/3] END learning_rate=0.01, max_depth=3, n_estimators=50;, score=-1548.606 total time=   2.7s\n",
      "[CV 3/3] END learning_rate=0.1, max_depth=3, n_estimators=100;, score=-19.280 total time=   5.1s\n",
      "[CV 1/3] END learning_rate=0.1, max_depth=3, n_estimators=100;, score=-19.311 total time=   5.1s\n",
      "[CV 2/3] END learning_rate=0.1, max_depth=3, n_estimators=100;, score=-18.304 total time=   5.2s\n",
      "[CV 2/3] END learning_rate=0.01, max_depth=3, n_estimators=100;, score=-655.567 total time=   5.5s\n",
      "[CV 3/3] END learning_rate=0.01, max_depth=3, n_estimators=100;, score=-650.948 total time=   5.6s\n",
      "[CV 1/3] END learning_rate=0.01, max_depth=3, n_estimators=100;, score=-652.176 total time=   5.9s\n",
      "[CV 3/3] END learning_rate=0.01, max_depth=3, n_estimators=50;, score=-1540.756 total time=   3.5s\n",
      "[CV 2/3] END learning_rate=0.01, max_depth=6, n_estimators=50;, score=-1467.883 total time=   5.2s\n",
      "[CV 3/3] END learning_rate=0.01, max_depth=6, n_estimators=50;, score=-1463.271 total time=   5.2s\n",
      "[CV 1/3] END learning_rate=0.01, max_depth=6, n_estimators=50;, score=-1462.637 total time=   5.8s\n",
      "[CV 1/3] END learning_rate=0.1, max_depth=6, n_estimators=100;, score=-14.147 total time=   8.9s\n",
      "[CV 2/3] END learning_rate=0.1, max_depth=6, n_estimators=100;, score=-13.411 total time=   7.0s\n",
      "[CV 3/3] END learning_rate=0.1, max_depth=6, n_estimators=100;, score=-13.936 total time=   7.1s\n"
     ]
    }
   ],
   "source": [
    "results = {}\n",
    "from xgboost import XGBRegressor\n",
    "from sklearn.model_selection import RandomizedSearchCV\n",
    "\n",
    "if XGBRegressor is not None:\n",
    "    param_dist_xgb = {\n",
    "        \"n_estimators\": [50, 100],\n",
    "        \"learning_rate\": [0.01, 0.1],\n",
    "        \"max_depth\": [3, 6]\n",
    "    }\n",
    "    xgb_grid = RandomizedSearchCV(XGBRegressor(random_state=42, n_jobs=-1), \n",
    "                                  param_distributions=param_dist_xgb,\n",
    "                                  n_iter=5, cv=3, \n",
    "                                  scoring=\"neg_mean_squared_error\", n_jobs=-1, random_state=42,\n",
    "                                  verbose=3)\n",
    "    with parallel_backend('threading', n_jobs=1):\n",
    "        xgb_grid.fit(X_train, y_train)\n",
    "    res, best = report_results(\"XGBoost\", xgb_grid, X_val, y_val)\n",
    "    results[\"XGBoost\"] = res\n",
    "    joblib.dump(best, \"../../../results/models/XGBoost.joblib\")\n",
    "    append_result_to_csv(res)\n"
   ]
  },
  {
   "cell_type": "code",
   "execution_count": 4,
   "id": "4e7e566b274f4b68",
   "metadata": {
    "ExecuteTime": {
     "end_time": "2025-09-20T19:45:56.100859Z",
     "start_time": "2025-09-20T19:45:56.083719Z"
    }
   },
   "outputs": [
    {
     "name": "stdout",
     "output_type": "stream",
     "text": [
      "           model                                        best_params       MAE  \\\n",
      "XGBoost  XGBoost  {'n_estimators': 100, 'max_depth': 6, 'learnin...  2.270453   \n",
      "\n",
      "             RMSE        R2  \n",
      "XGBoost  3.713193  0.996442  \n"
     ]
    }
   ],
   "source": [
    "results_df = pd.DataFrame(results).T\n",
    "print(results_df)\n",
    "results_df.to_csv(\"../../../results/models/baseline_results_xgb.csv\")\n"
   ]
  },
  {
   "cell_type": "code",
   "execution_count": null,
   "id": "c07b4379",
   "metadata": {},
   "outputs": [],
   "source": []
  }
 ],
 "metadata": {
  "kernelspec": {
   "display_name": ".venv",
   "language": "python",
   "name": "python3"
  },
  "language_info": {
   "codemirror_mode": {
    "name": "ipython",
    "version": 3
   },
   "file_extension": ".py",
   "mimetype": "text/x-python",
   "name": "python",
   "nbconvert_exporter": "python",
   "pygments_lexer": "ipython3",
   "version": "3.11.9"
  }
 },
 "nbformat": 4,
 "nbformat_minor": 5
}
