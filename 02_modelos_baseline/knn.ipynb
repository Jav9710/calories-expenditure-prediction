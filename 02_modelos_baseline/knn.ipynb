{
 "cells": [
  {
   "cell_type": "code",
   "execution_count": 1,
   "id": "initial_id",
   "metadata": {
    "ExecuteTime": {
     "end_time": "2025-09-20T13:32:33.819134Z",
     "start_time": "2025-09-20T13:32:27.412758Z"
    },
    "collapsed": true
   },
   "outputs": [],
   "source": [
    "\n",
    "\n",
    "import os\n",
    "from pathlib import Path\n",
    "\n",
    "import joblib\n",
    "import numpy as np\n",
    "import pandas as pd\n",
    "from joblib import parallel_backend\n",
    "from sklearn.metrics import mean_absolute_error, mean_squared_error, r2_score\n",
    "\n",
    "DATA_DIR = Path(\"../../../data/processed\")\n",
    "train = pd.read_csv(DATA_DIR / 'train_fe_scaled.csv')\n",
    "val = pd.read_csv(DATA_DIR / 'val_fe_scaled.csv')\n",
    "\n",
    "TARGET = 'Calories'\n",
    "FEATURES = [c for c in train.columns if c not in ['id', TARGET]]\n",
    "X_train, y_train = train[FEATURES], train[TARGET]\n",
    "X_val, y_val = val[FEATURES], val[TARGET]\n"
   ]
  },
  {
   "cell_type": "code",
   "execution_count": 2,
   "id": "fea6b4134e36fe27",
   "metadata": {
    "ExecuteTime": {
     "end_time": "2025-09-20T13:32:44.526897Z",
     "start_time": "2025-09-20T13:32:44.512414Z"
    }
   },
   "outputs": [],
   "source": [
    "def report_results(model_name, grid, X_val, y_val):\n",
    "    best = grid.best_estimator_\n",
    "    preds = best.predict(X_val)\n",
    "    mae = mean_absolute_error(y_val, preds)\n",
    "    mse = mean_squared_error(y_val, preds)\n",
    "    rmse = np.sqrt(mse)\n",
    "    r2 = r2_score(y_val, preds)\n",
    "    return {\n",
    "        \"model\": model_name,\n",
    "        \"best_params\": grid.best_params_,\n",
    "        \"MAE\": mae,\n",
    "        \"RMSE\": rmse,\n",
    "        \"R2\": r2\n",
    "    }, best\n",
    "\n",
    "RESULTS_CSV = \"../../../results/baseline_results.csv\"\n",
    "\n",
    "def append_result_to_csv(result_dict, csv_path=RESULTS_CSV):\n",
    "    df_new = pd.DataFrame([result_dict])\n",
    "    if os.path.exists(csv_path):\n",
    "        df_existing = pd.read_csv(csv_path)\n",
    "        df_all = pd.concat([df_existing, df_new], ignore_index=True)\n",
    "    else:\n",
    "        df_all = df_new\n",
    "    df_all.to_csv(csv_path, index=False)"
   ]
  },
  {
   "cell_type": "code",
   "execution_count": 3,
   "id": "e7fd4f688488c75c",
   "metadata": {
    "ExecuteTime": {
     "end_time": "2025-09-20T13:39:41.658161Z",
     "start_time": "2025-09-20T13:32:45.891649Z"
    }
   },
   "outputs": [
    {
     "name": "stdout",
     "output_type": "stream",
     "text": [
      "Fitting 3 folds for each of 5 candidates, totalling 15 fits\n",
      "[CV 1/3] END ..n_neighbors=3, weights=uniform;, score=-24.228 total time=  23.4s\n",
      "[CV 2/3] END ..n_neighbors=3, weights=uniform;, score=-23.203 total time=  29.0s\n",
      "[CV 3/3] END ..n_neighbors=3, weights=uniform;, score=-23.359 total time=  29.0s\n",
      "[CV 1/3] END .n_neighbors=3, weights=distance;, score=-23.987 total time=  28.9s\n",
      "[CV 2/3] END .n_neighbors=3, weights=distance;, score=-22.917 total time=  22.3s\n",
      "[CV 3/3] END .n_neighbors=3, weights=distance;, score=-23.085 total time=  32.6s\n",
      "[CV 1/3] END .n_neighbors=7, weights=distance;, score=-19.667 total time=  24.7s\n",
      "[CV 2/3] END .n_neighbors=7, weights=distance;, score=-18.596 total time=  38.0s\n",
      "[CV 3/3] END .n_neighbors=7, weights=distance;, score=-18.982 total time=  38.5s\n",
      "[CV 1/3] END ..n_neighbors=5, weights=uniform;, score=-21.157 total time=  36.8s\n",
      "[CV 2/3] END ..n_neighbors=5, weights=uniform;, score=-20.168 total time=  36.2s\n",
      "[CV 3/3] END ..n_neighbors=5, weights=uniform;, score=-20.505 total time=  35.5s\n",
      "[CV 1/3] END ..n_neighbors=7, weights=uniform;, score=-19.904 total time=  37.5s\n",
      "[CV 2/3] END ..n_neighbors=7, weights=uniform;, score=-18.882 total time=  23.9s\n",
      "[CV 3/3] END ..n_neighbors=7, weights=uniform;, score=-19.270 total time=  34.5s\n"
     ]
    }
   ],
   "source": [
    "from sklearn.neighbors import KNeighborsRegressor\n",
    "from sklearn.model_selection import RandomizedSearchCV\n",
    "results = {}\n",
    "param_dist_knn = {\n",
    "    \"n_neighbors\": [3, 5, 7],\n",
    "    \"weights\": [\"uniform\", \"distance\"]\n",
    "}\n",
    "knn_grid = RandomizedSearchCV(KNeighborsRegressor(), param_distributions=param_dist_knn,\n",
    "                              n_iter=5, cv=3, scoring=\"neg_mean_squared_error\", n_jobs=1, random_state=42,\n",
    "                              verbose=3)\n",
    "with parallel_backend('threading', n_jobs=3):\n",
    "    knn_grid.fit(X_train, y_train)\n",
    "res, best = report_results(\"KNeighbors\", knn_grid, X_val, y_val)\n",
    "results[\"KNeighbors\"] = res\n",
    "joblib.dump(best, \"../../../results/models/KNeighbors.joblib\")\n",
    "append_result_to_csv(res)\n"
   ]
  },
  {
   "cell_type": "code",
   "execution_count": 4,
   "id": "4e7e566b274f4b68",
   "metadata": {
    "ExecuteTime": {
     "end_time": "2025-09-20T13:40:11.093297Z",
     "start_time": "2025-09-20T13:40:11.073990Z"
    }
   },
   "outputs": [
    {
     "name": "stdout",
     "output_type": "stream",
     "text": [
      "                 model                                best_params       MAE  \\\n",
      "KNeighbors  KNeighbors  {'weights': 'distance', 'n_neighbors': 7}  2.710705   \n",
      "\n",
      "                RMSE        R2  \n",
      "KNeighbors  4.279837  0.995274  \n"
     ]
    }
   ],
   "source": [
    "results_df = pd.DataFrame(results).T\n",
    "print(results_df)\n",
    "results_df.to_csv(\"../../../results/models/baseline_results_knn.csv\")\n"
   ]
  }
 ],
 "metadata": {
  "kernelspec": {
   "display_name": ".venv",
   "language": "python",
   "name": "python3"
  },
  "language_info": {
   "codemirror_mode": {
    "name": "ipython",
    "version": 3
   },
   "file_extension": ".py",
   "mimetype": "text/x-python",
   "name": "python",
   "nbconvert_exporter": "python",
   "pygments_lexer": "ipython3",
   "version": "3.11.9"
  }
 },
 "nbformat": 4,
 "nbformat_minor": 5
}
