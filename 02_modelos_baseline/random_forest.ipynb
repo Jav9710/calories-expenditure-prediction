{
 "cells": [
  {
   "cell_type": "code",
   "execution_count": 1,
   "id": "initial_id",
   "metadata": {
    "ExecuteTime": {
     "end_time": "2025-09-20T17:14:32.838624Z",
     "start_time": "2025-09-20T17:14:29.861947Z"
    },
    "collapsed": true
   },
   "outputs": [],
   "source": [
    "\n",
    "\n",
    "import os\n",
    "from pathlib import Path\n",
    "\n",
    "import joblib\n",
    "import numpy as np\n",
    "import pandas as pd\n",
    "from joblib import parallel_backend\n",
    "from sklearn.metrics import mean_absolute_error, mean_squared_error, r2_score\n",
    "\n",
    "DATA_DIR = Path(\"../../../data/processed\")\n",
    "train = pd.read_csv(DATA_DIR / 'train_fe_scaled.csv')\n",
    "val = pd.read_csv(DATA_DIR / 'val_fe_scaled.csv')\n",
    "\n",
    "TARGET = 'Calories'\n",
    "FEATURES = [c for c in train.columns if c not in ['id', TARGET]]\n",
    "X_train, y_train = train[FEATURES], train[TARGET]\n",
    "X_val, y_val = val[FEATURES], val[TARGET]\n"
   ]
  },
  {
   "cell_type": "code",
   "execution_count": 2,
   "id": "fea6b4134e36fe27",
   "metadata": {
    "ExecuteTime": {
     "end_time": "2025-09-20T17:14:32.848456Z",
     "start_time": "2025-09-20T17:14:32.843114Z"
    }
   },
   "outputs": [],
   "source": [
    "def report_results(model_name, grid, X_val, y_val):\n",
    "    best = grid.best_estimator_\n",
    "    preds = best.predict(X_val)\n",
    "    mae = mean_absolute_error(y_val, preds)\n",
    "    mse = mean_squared_error(y_val, preds)\n",
    "    rmse = np.sqrt(mse)\n",
    "    r2 = r2_score(y_val, preds)\n",
    "    return {\n",
    "        \"model\": model_name,\n",
    "        \"best_params\": grid.best_params_,\n",
    "        \"MAE\": mae,\n",
    "        \"RMSE\": rmse,\n",
    "        \"R2\": r2\n",
    "    }, best\n",
    "\n",
    "RESULTS_CSV = \"../../../results/baseline_results.csv\"\n",
    "\n",
    "def append_result_to_csv(result_dict, csv_path=RESULTS_CSV):\n",
    "    df_new = pd.DataFrame([result_dict])\n",
    "    if os.path.exists(csv_path):\n",
    "        df_existing = pd.read_csv(csv_path)\n",
    "        df_all = pd.concat([df_existing, df_new], ignore_index=True)\n",
    "    else:\n",
    "        df_all = df_new\n",
    "    df_all.to_csv(csv_path, index=False)"
   ]
  },
  {
   "cell_type": "code",
   "execution_count": 3,
   "id": "e7fd4f688488c75c",
   "metadata": {
    "ExecuteTime": {
     "end_time": "2025-09-20T17:21:14.019718Z",
     "start_time": "2025-09-20T17:15:17.648534Z"
    }
   },
   "outputs": [
    {
     "name": "stdout",
     "output_type": "stream",
     "text": [
      "Fitting 3 folds for each of 4 candidates, totalling 12 fits\n",
      "[CV 1/3] END .max_depth=None, n_estimators=50;, score=-15.227 total time=  56.5s\n",
      "[CV 2/3] END .max_depth=None, n_estimators=50;, score=-14.126 total time= 1.5min\n",
      "[CV 3/3] END .max_depth=None, n_estimators=50;, score=-14.788 total time= 1.6min\n",
      "[CV 1/3] END max_depth=None, n_estimators=100;, score=-15.113 total time= 3.1min\n",
      "[CV 2/3] END max_depth=None, n_estimators=100;, score=-14.014 total time= 3.1min\n",
      "[CV 3/3] END max_depth=None, n_estimators=100;, score=-14.624 total time= 2.4min\n",
      "[CV 1/3] END ...max_depth=10, n_estimators=50;, score=-21.195 total time=  19.5s\n",
      "[CV 2/3] END ...max_depth=10, n_estimators=50;, score=-20.092 total time=  22.4s\n",
      "[CV 3/3] END ...max_depth=10, n_estimators=50;, score=-20.810 total time=  23.5s\n",
      "[CV 1/3] END ..max_depth=10, n_estimators=100;, score=-21.123 total time=  44.3s\n",
      "[CV 2/3] END ..max_depth=10, n_estimators=100;, score=-20.075 total time=  46.5s\n",
      "[CV 3/3] END ..max_depth=10, n_estimators=100;, score=-20.713 total time=  49.9s\n"
     ]
    }
   ],
   "source": [
    "from sklearn.ensemble import RandomForestRegressor\n",
    "from sklearn.model_selection import RandomizedSearchCV\n",
    "\n",
    "results = {}\n",
    "param_dist_rf = {\n",
    "    \"n_estimators\": [50, 100],\n",
    "    \"max_depth\": [None, 10]\n",
    "}\n",
    "rf_grid = RandomizedSearchCV(RandomForestRegressor(random_state=42, n_jobs=-1), \n",
    "                             param_distributions=param_dist_rf,\n",
    "                             n_iter=4, cv=3, \n",
    "                             scoring=\"neg_mean_squared_error\", n_jobs=1, random_state=42,\n",
    "                             verbose=3)\n",
    "rf_grid.fit(X_train, y_train)\n",
    "res, best = report_results(\"RandomForest\", rf_grid, X_val, y_val)\n",
    "results[\"RandomForest\"] = res\n",
    "joblib.dump(best, \"../../../results/models/RandomForest.joblib\")\n",
    "append_result_to_csv(res)\n"
   ]
  },
  {
   "cell_type": "code",
   "execution_count": 4,
   "id": "4e7e566b274f4b68",
   "metadata": {
    "ExecuteTime": {
     "end_time": "2025-09-20T17:38:53.694821Z",
     "start_time": "2025-09-20T17:38:53.680044Z"
    }
   },
   "outputs": [
    {
     "name": "stdout",
     "output_type": "stream",
     "text": [
      "                     model                               best_params  \\\n",
      "RandomForest  RandomForest  {'n_estimators': 100, 'max_depth': None}   \n",
      "\n",
      "                   MAE      RMSE        R2  \n",
      "RandomForest  2.267412  3.782081  0.996309  \n"
     ]
    }
   ],
   "source": [
    "results_df = pd.DataFrame(results).T\n",
    "print(results_df)\n",
    "results_df.to_csv(\"../../../results/models/baseline_results_rf.csv\")\n"
   ]
  }
 ],
 "metadata": {
  "kernelspec": {
   "display_name": ".venv",
   "language": "python",
   "name": "python3"
  },
  "language_info": {
   "codemirror_mode": {
    "name": "ipython",
    "version": 3
   },
   "file_extension": ".py",
   "mimetype": "text/x-python",
   "name": "python",
   "nbconvert_exporter": "python",
   "pygments_lexer": "ipython3",
   "version": "3.11.9"
  }
 },
 "nbformat": 4,
 "nbformat_minor": 5
}
